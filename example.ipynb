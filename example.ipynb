{
 "cells": [
  {
   "cell_type": "markdown",
   "metadata": {},
   "source": [
    "# Library Installation"
   ]
  },
  {
   "cell_type": "code",
   "execution_count": null,
   "metadata": {},
   "outputs": [],
   "source": [
    "!pip install pandas"
   ]
  },
  {
   "cell_type": "code",
   "execution_count": null,
   "metadata": {},
   "outputs": [],
   "source": [
    "!pip install sqlalchemy"
   ]
  },
  {
   "cell_type": "code",
   "execution_count": null,
   "metadata": {},
   "outputs": [],
   "source": [
    "!pip install pymysql"
   ]
  },
  {
   "cell_type": "code",
   "execution_count": null,
   "metadata": {},
   "outputs": [],
   "source": [
    "!pip install openpyxl"
   ]
  },
  {
   "cell_type": "markdown",
   "metadata": {},
   "source": [
    "# Librarys"
   ]
  },
  {
   "cell_type": "code",
   "execution_count": 1,
   "metadata": {},
   "outputs": [],
   "source": [
    "import json\n",
    "from db import DatabaseConnection\n",
    "from logClass import LogClass"
   ]
  },
  {
   "cell_type": "markdown",
   "metadata": {},
   "source": [
    "# Set MySQL Engine"
   ]
  },
  {
   "cell_type": "code",
   "execution_count": 2,
   "metadata": {},
   "outputs": [],
   "source": [
    "with open('db_config.json', 'r') as file:\n",
    "    config = json.load(file)\n",
    "\n",
    "engine = DatabaseConnection.connect_to_db(config['user'], \n",
    "                                          config['password'], \n",
    "                                          config['host'], \n",
    "                                          config['database'])\n",
    "\n",
    "df_dimctrsystems = DatabaseConnection.select_from_table(engine,'dimctrsystems')"
   ]
  },
  {
   "cell_type": "markdown",
   "metadata": {},
   "source": [
    "# Globals Variabels"
   ]
  },
  {
   "cell_type": "code",
   "execution_count": 3,
   "metadata": {},
   "outputs": [],
   "source": [
    "# SYSTEM_CODE = df_dimctrsystems[df_dimctrsystems['system'] == 'Test Log']['system_code'].values[0]\n",
    "SYSTEM_CODE = 1\n",
    "FOLDER_NAME = \"example.ipynb\""
   ]
  },
  {
   "cell_type": "markdown",
   "metadata": {},
   "source": [
    "# Messages Class"
   ]
  },
  {
   "cell_type": "code",
   "execution_count": 4,
   "metadata": {},
   "outputs": [],
   "source": [
    "class messagesClass:\n",
    "    def __init__(self, engine, output_format):\n",
    "        \"\"\"\n",
    "        Initializes the log messages class.\n",
    "\n",
    "        Args:\n",
    "            engine: Database connection engine for MySQL.\n",
    "            output_format (str): The output format for the log ('db', 'csv', 'xlsx').\n",
    "        \"\"\"\n",
    "        self.logclass = LogClass(engine)\n",
    "        self.output_format = output_format\n",
    "\n",
    "    def log_message_success(self, module_name, msg):\n",
    "        \"\"\"\n",
    "        Logs a success message.\n",
    "\n",
    "        Args:\n",
    "            module_name (str): Name of the module where the message is occurring.\n",
    "            msg (str): The log message to be recorded.\n",
    "        \"\"\"\n",
    "        self.logclass.insert_logs(SYSTEM_CODE, module_name, FOLDER_NAME, 'SUCCESS', 'SUCCESS', msg, self.output_format)\n",
    "\n",
    "    def log_message_info(self, module_name, msg):\n",
    "        \"\"\"\n",
    "        Logs an informational message.\n",
    "\n",
    "        Args:\n",
    "            module_name (str): Name of the module where the message is occurring.\n",
    "            msg (str): The log message to be recorded.\n",
    "        \"\"\"\n",
    "        self.logclass.insert_logs(SYSTEM_CODE, module_name, FOLDER_NAME, 'INFO', 'INFO', msg, self.output_format)\n",
    "\n",
    "    def log_message_alert(self, module_name, msg):\n",
    "        \"\"\"\n",
    "        Logs an alert message.\n",
    "\n",
    "        Args:\n",
    "            module_name (str): Name of the module where the message is occurring.\n",
    "            msg (str): The log message to be recorded.\n",
    "        \"\"\"\n",
    "        self.logclass.insert_logs(SYSTEM_CODE, module_name, FOLDER_NAME, 'ALERT', 'ALERT', msg, self.output_format)\n",
    "\n",
    "    def log_message_error(self, module_name, status, msg):\n",
    "        \"\"\"\n",
    "        Logs an error message.\n",
    "\n",
    "        Args:\n",
    "            module_name (str): Name of the module where the message is occurring.\n",
    "            status (str): Status of the message (e.g., 'TypeError', 'ZeroDivisionError').\n",
    "            msg (str): The log message to be recorded.\n",
    "        \"\"\"\n",
    "        self.logclass.insert_logs(SYSTEM_CODE, module_name, FOLDER_NAME, status, 'ERROR', msg, self.output_format)\n"
   ]
  },
  {
   "cell_type": "markdown",
   "metadata": {},
   "source": [
    "# Example with Database"
   ]
  },
  {
   "cell_type": "code",
   "execution_count": 5,
   "metadata": {},
   "outputs": [
    {
     "name": "stdout",
     "output_type": "stream",
     "text": [
      "LogClass initialized!\n"
     ]
    }
   ],
   "source": [
    "messages_class = messagesClass(engine, output_format='db')"
   ]
  },
  {
   "cell_type": "code",
   "execution_count": 6,
   "metadata": {},
   "outputs": [
    {
     "name": "stdout",
     "output_type": "stream",
     "text": [
      "Data successfully inserted!\n",
      "Log successfully saved in database!\n",
      "Data successfully inserted!\n",
      "Log successfully saved in database!\n"
     ]
    }
   ],
   "source": [
    "try:\n",
    "    messages_class.log_message_info('Calculator', 'Starting calculator code!')\n",
    "    x = int(input('Write a value:'))\n",
    "    result = x / 1\n",
    "\n",
    "    if x == 1:\n",
    "        print(result)\n",
    "    elif x == 2:\n",
    "        print(result)\n",
    "\n",
    "    messages_class.log_message_success('Calculator', 'Code completed successfully!')\n",
    "\n",
    "except TypeError as typeerror:\n",
    "    messages_class.log_message_error('Calculator', 'Type Error', typeerror)\n",
    "    pass\n",
    "\n",
    "except ZeroDivisionError as zeroerror:\n",
    "    messages_class.log_message_error('Calculator', 'Zero Division Error', zeroerror)\n",
    "    pass\n",
    "\n",
    "\n",
    "except Exception as error:\n",
    "    messages_class.log_message_error('Calculator', 'Generic error', error)"
   ]
  },
  {
   "cell_type": "markdown",
   "metadata": {},
   "source": [
    "# Example with CSV"
   ]
  },
  {
   "cell_type": "code",
   "execution_count": 7,
   "metadata": {},
   "outputs": [
    {
     "name": "stdout",
     "output_type": "stream",
     "text": [
      "LogClass initialized!\n"
     ]
    }
   ],
   "source": [
    "messages_class = messagesClass(engine, output_format='xlsx')"
   ]
  },
  {
   "cell_type": "code",
   "execution_count": 8,
   "metadata": {},
   "outputs": [
    {
     "name": "stdout",
     "output_type": "stream",
     "text": [
      "Log successfully saved in log/log.xlsx!\n",
      "1.0\n",
      "Log successfully saved in log/log.xlsx!\n"
     ]
    }
   ],
   "source": [
    "try:\n",
    "    messages_class.log_message_info('Calculator', 'Starting calculator code!')\n",
    "    x = int(input('Write a value:'))\n",
    "    result = x / 1\n",
    "\n",
    "    if x == 1:\n",
    "        print(result)\n",
    "    elif x == 2:\n",
    "        print(result)\n",
    "\n",
    "    messages_class.log_message_success('Calculator', 'Code completed successfully!')\n",
    "\n",
    "except TypeError as typeerror:\n",
    "    messages_class.log_message_error('Calculator', 'Type Error', typeerror)\n",
    "    pass\n",
    "\n",
    "except ZeroDivisionError as zeroerror:\n",
    "    messages_class.log_message_error('Calculator', 'Zero Division Error', zeroerror)\n",
    "    pass\n",
    "\n",
    "except Exception as error:\n",
    "    messages_class.log_message_error('Calculator', 'Generic error', error)"
   ]
  },
  {
   "cell_type": "code",
   "execution_count": null,
   "metadata": {},
   "outputs": [],
   "source": []
  },
  {
   "cell_type": "code",
   "execution_count": null,
   "metadata": {},
   "outputs": [],
   "source": []
  }
 ],
 "metadata": {
  "kernelspec": {
   "display_name": "env_captacao_clientes",
   "language": "python",
   "name": "python3"
  },
  "language_info": {
   "codemirror_mode": {
    "name": "ipython",
    "version": 3
   },
   "file_extension": ".py",
   "mimetype": "text/x-python",
   "name": "python",
   "nbconvert_exporter": "python",
   "pygments_lexer": "ipython3",
   "version": "3.9.18"
  }
 },
 "nbformat": 4,
 "nbformat_minor": 2
}
